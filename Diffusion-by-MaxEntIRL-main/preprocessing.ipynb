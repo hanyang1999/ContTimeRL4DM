{
 "cells": [
  {
   "cell_type": "code",
   "execution_count": 7,
   "metadata": {},
   "outputs": [],
   "source": [
    "import numpy as np\n",
    "import torch\n",
    "\n",
    "# Load the .npz file\n",
    "npz_file = np.load('/home/hanyang/ContTimeRL4DM/Diffusion-by-MaxEntIRL-main/datasets/cifar10_stats.npz')\n",
    "\n",
    "# Convert each array to a PyTorch tensor and store in a dictionary\n",
    "tensor_dict = {key: torch.from_numpy(npz_file[key]) for key in npz_file.files}\n",
    "\n",
    "# Save the tensor dictionary to a .pt file\n",
    "#torch.save(tensor_dict, '/home/hanyang/ContTimeRL4DM/Diffusion-by-MaxEntIRL-main/datasets/cifar10_train_fid_stats.pt')\n",
    "\n",
    "#print(\"Converted .npz to .pt successfully!\")"
   ]
  },
  {
   "cell_type": "code",
   "execution_count": 8,
   "metadata": {},
   "outputs": [],
   "source": [
    "activations2 = tensor_dict['pool_3']"
   ]
  },
  {
   "cell_type": "code",
   "execution_count": 9,
   "metadata": {},
   "outputs": [
    {
     "name": "stderr",
     "output_type": "stream",
     "text": [
      "/tmp/ipykernel_1968910/4226205389.py:4: UserWarning: To copy construct from a tensor, it is recommended to use sourceTensor.clone().detach() or sourceTensor.clone().detach().requires_grad_(True), rather than torch.tensor(sourceTensor).\n",
      "  activations2 = torch.tensor(activations2)\n"
     ]
    },
    {
     "name": "stdout",
     "output_type": "stream",
     "text": [
      "Saved m_w and sigma_w to datasets/cifar10_train_fid_stats.pt\n"
     ]
    }
   ],
   "source": [
    "import torch\n",
    "\n",
    "# Ensure activations2 is a tensor\n",
    "activations2 = torch.tensor(activations2)\n",
    "assert len(activations2.shape) == 2, \"activations2 must have rank 2\"\n",
    "\n",
    "activations2 = activations2.double()\n",
    "\n",
    "# Compute the mean of activations2 along axis 0\n",
    "m_w = activations2.mean(dim=0)\n",
    "\n",
    "# Calculate the number of examples and covariance\n",
    "num_examples_generated = float(activations2.shape[0])\n",
    "\n",
    "sigma_w = num_examples_generated / (num_examples_generated - 1) * \\\n",
    "           torch.cov(activations2.T)\n",
    "file_name = \"datasets/cifar10_train_fid_stats.pt\"\n",
    "torch.save({'m2': m_w, 's2': sigma_w}, file_name)\n",
    "\n",
    "print(f\"Saved m_w and sigma_w to {file_name}\")"
   ]
  },
  {
   "cell_type": "code",
   "execution_count": 5,
   "metadata": {},
   "outputs": [
    {
     "data": {
      "text/plain": [
       "tensor([[ 0.0120,  0.0018, -0.0005,  ...,  0.0088, -0.0008,  0.0018],\n",
       "        [ 0.0018,  0.0418,  0.0006,  ...,  0.0044,  0.0055,  0.0003],\n",
       "        [-0.0005,  0.0006,  0.0443,  ..., -0.0206,  0.0025,  0.0014],\n",
       "        ...,\n",
       "        [ 0.0088,  0.0044, -0.0206,  ...,  0.2223,  0.0151,  0.0094],\n",
       "        [-0.0008,  0.0055,  0.0025,  ...,  0.0151,  0.1048, -0.0059],\n",
       "        [ 0.0018,  0.0003,  0.0014,  ...,  0.0094, -0.0059,  0.1812]],\n",
       "       dtype=torch.float64)"
      ]
     },
     "execution_count": 5,
     "metadata": {},
     "output_type": "execute_result"
    }
   ],
   "source": [
    "sigma_w[0]"
   ]
  },
  {
   "cell_type": "code",
   "execution_count": 6,
   "metadata": {},
   "outputs": [
    {
     "data": {
      "text/plain": [
       "tensor([[ 0.0120,  0.0018, -0.0005,  ...,  0.0088, -0.0008,  0.0018],\n",
       "        [ 0.0018,  0.0418,  0.0006,  ...,  0.0044,  0.0055,  0.0003],\n",
       "        [-0.0005,  0.0006,  0.0443,  ..., -0.0206,  0.0025,  0.0014],\n",
       "        ...,\n",
       "        [ 0.0088,  0.0044, -0.0206,  ...,  0.2223,  0.0151,  0.0094],\n",
       "        [-0.0008,  0.0055,  0.0025,  ...,  0.0151,  0.1048, -0.0059],\n",
       "        [ 0.0018,  0.0003,  0.0014,  ...,  0.0094, -0.0059,  0.1812]],\n",
       "       dtype=torch.float64)"
      ]
     },
     "execution_count": 6,
     "metadata": {},
     "output_type": "execute_result"
    }
   ],
   "source": [
    "sigma_w_2"
   ]
  },
  {
   "cell_type": "code",
   "execution_count": 4,
   "metadata": {},
   "outputs": [
    {
     "name": "stdout",
     "output_type": "stream",
     "text": [
      "/home/hanyang/ContTimeRL4DM/Diffusion-by-MaxEntIRL-main\n"
     ]
    }
   ],
   "source": [
    "!pwd"
   ]
  },
  {
   "cell_type": "code",
   "execution_count": 1,
   "metadata": {},
   "outputs": [],
   "source": [
    "!cd /home/hanyang/ContTimeRL4DM/Diffusion-by-MaxEntIRL-main"
   ]
  },
  {
   "cell_type": "code",
   "execution_count": 3,
   "metadata": {},
   "outputs": [
    {
     "name": "stdout",
     "output_type": "stream",
     "text": [
      "['arr_0']\n"
     ]
    },
    {
     "name": "stdout",
     "output_type": "stream",
     "text": [
      "Key: arr_0, Shape: (50000, 32, 32, 3), Dtype: uint8\n"
     ]
    }
   ],
   "source": [
    "import numpy as np\n",
    "\n",
    "# Load the .npz file\n",
    "data = np.load(\"datasets/cifar10_train_png_pil.npz\")\n",
    "\n",
    "# Inspect the keys (if the file contains a dictionary-like structure)\n",
    "print(data.files)\n",
    "\n",
    "# Access specific arrays or objects\n",
    "for key in data.files:\n",
    "    print(f\"Key: {key}, Shape: {data[key].shape}, Dtype: {data[key].dtype}\")"
   ]
  },
  {
   "cell_type": "code",
   "execution_count": null,
   "metadata": {},
   "outputs": [],
   "source": []
  }
 ],
 "metadata": {
  "kernelspec": {
   "display_name": "dxmi",
   "language": "python",
   "name": "python3"
  },
  "language_info": {
   "codemirror_mode": {
    "name": "ipython",
    "version": 3
   },
   "file_extension": ".py",
   "mimetype": "text/x-python",
   "name": "python",
   "nbconvert_exporter": "python",
   "pygments_lexer": "ipython3",
   "version": "3.8.20"
  }
 },
 "nbformat": 4,
 "nbformat_minor": 2
}
