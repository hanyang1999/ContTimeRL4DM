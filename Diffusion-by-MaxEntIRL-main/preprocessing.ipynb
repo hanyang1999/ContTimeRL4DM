{
 "cells": [
  {
   "cell_type": "code",
   "execution_count": null,
   "metadata": {},
   "outputs": [
    {
     "name": "stdout",
     "output_type": "stream",
     "text": [
      "Converted .npz to .pt successfully!\n"
     ]
    }
   ],
   "source": [
    "import numpy as np\n",
    "import torch\n",
    "\n",
    "# Load the .npz file\n",
    "npz_file = np.load('/home/hanyang/ContTimeRL4DM/Diffusion-by-MaxEntIRL-main/datasets/cifar10_stats.npz')\n",
    "\n",
    "# Convert each array to a PyTorch tensor and store in a dictionary\n",
    "tensor_dict = {key: torch.from_numpy(npz_file[key]) for key in npz_file.files}\n",
    "\n",
    "# Save the tensor dictionary to a .pt file\n",
    "#torch.save(tensor_dict, '/home/hanyang/ContTimeRL4DM/Diffusion-by-MaxEntIRL-main/datasets/cifar10_train_fid_stats.pt')\n",
    "\n",
    "#print(\"Converted .npz to .pt successfully!\")"
   ]
  },
  {
   "cell_type": "code",
   "execution_count": 2,
   "metadata": {},
   "outputs": [
    {
     "name": "stderr",
     "output_type": "stream",
     "text": [
      "/tmp/ipykernel_1937836/3397679142.py:1: FutureWarning: You are using `torch.load` with `weights_only=False` (the current default value), which uses the default pickle module implicitly. It is possible to construct malicious pickle data which will execute arbitrary code during unpickling (See https://github.com/pytorch/pytorch/blob/main/SECURITY.md#untrusted-models for more details). In a future release, the default value for `weights_only` will be flipped to `True`. This limits the functions that could be executed during unpickling. Arbitrary objects will no longer be allowed to be loaded via this mode unless they are explicitly allowlisted by the user via `torch.serialization.add_safe_globals`. We recommend you start setting `weights_only=True` for any use case where you don't have full control of the loaded file. Please open an issue on GitHub for any issues related to this experimental feature.\n",
      "  loaded_data = torch.load('/home/hanyang/ContTimeRL4DM/Diffusion-by-MaxEntIRL-main/datasets/cifar10_train_fid_stats.pt')\n"
     ]
    },
    {
     "name": "stdout",
     "output_type": "stream",
     "text": [
      "logits: tensor([[ 0.3557,  2.3084,  0.3871,  ...,  0.3556,  0.3556,  0.3556],\n",
      "        [ 0.3646,  0.1300,  0.2440,  ...,  0.3646,  0.3645,  0.3645],\n",
      "        [ 0.5854,  0.8064, -0.8567,  ...,  0.5854,  0.5853,  0.5853],\n",
      "        ...,\n",
      "        [ 0.4180,  0.5669, -0.3704,  ...,  0.4180,  0.4179,  0.4179],\n",
      "        [ 0.6191,  0.8153,  4.9053,  ...,  0.6191,  0.6191,  0.6191],\n",
      "        [ 0.7103, -0.2219,  1.2011,  ...,  0.7103,  0.7102,  0.7102]])\n",
      "pool_3: tensor([[0.0031, 0.1215, 0.2424,  ..., 0.7966, 0.3639, 0.7855],\n",
      "        [0.3683, 0.0547, 0.3692,  ..., 0.4894, 0.4514, 0.4682],\n",
      "        [0.0202, 0.0863, 0.4296,  ..., 0.0137, 0.0476, 1.9205],\n",
      "        ...,\n",
      "        [0.1084, 0.0224, 0.1094,  ..., 1.5634, 0.0846, 0.5818],\n",
      "        [0.0781, 0.1112, 0.4001,  ..., 0.4456, 0.9558, 1.6582],\n",
      "        [0.0914, 0.2279, 0.1004,  ..., 0.7203, 1.2075, 0.1238]])\n"
     ]
    }
   ],
   "source": [
    "loaded_data = torch.load('/home/hanyang/ContTimeRL4DM/Diffusion-by-MaxEntIRL-main/datasets/cifar10_train_fid_stats.pt')\n",
    "\n",
    "# Access tensors\n",
    "for key, tensor in loaded_data.items():\n",
    "    print(f\"{key}: {tensor}\")"
   ]
  },
  {
   "cell_type": "code",
   "execution_count": 3,
   "metadata": {},
   "outputs": [],
   "source": [
    "activations2 = loaded_data['pool_3']"
   ]
  },
  {
   "cell_type": "code",
   "execution_count": 4,
   "metadata": {},
   "outputs": [
    {
     "name": "stderr",
     "output_type": "stream",
     "text": [
      "/tmp/ipykernel_1937836/3016464053.py:4: UserWarning: To copy construct from a tensor, it is recommended to use sourceTensor.clone().detach() or sourceTensor.clone().detach().requires_grad_(True), rather than torch.tensor(sourceTensor).\n",
      "  activations2 = torch.tensor(activations2)\n"
     ]
    },
    {
     "name": "stdout",
     "output_type": "stream",
     "text": [
      "Saved m_w and sigma_w to cifar10_train_fid_stats.pt\n"
     ]
    }
   ],
   "source": [
    "import torch\n",
    "\n",
    "# Ensure activations2 is a tensor\n",
    "activations2 = torch.tensor(activations2)\n",
    "assert len(activations2.shape) == 2, \"activations2 must have rank 2\"\n",
    "\n",
    "activations2 = activations2.double()\n",
    "\n",
    "# Compute the mean of activations2 along axis 0\n",
    "m_w = (activations2.mean(dim=0),)\n",
    "\n",
    "# Calculate the number of examples and covariance\n",
    "num_examples_generated = float(activations2.shape[0])\n",
    "sigma_w = (num_examples_generated / (num_examples_generated - 1) *\n",
    "           torch.cov(activations2.T),)\n",
    "\n",
    "file_name = \"cifar10_train_fid_stats.pt\"\n",
    "torch.save({'m_w': m_w, 'sigma_w': sigma_w}, file_name)\n",
    "\n",
    "print(f\"Saved m_w and sigma_w to {file_name}\")"
   ]
  },
  {
   "cell_type": "code",
   "execution_count": 5,
   "metadata": {},
   "outputs": [
    {
     "name": "stdout",
     "output_type": "stream",
     "text": [
      "/home/hanyang/ContTimeRL4DM/Diffusion-by-MaxEntIRL-main\n"
     ]
    }
   ],
   "source": [
    "!pwd"
   ]
  },
  {
   "cell_type": "code",
   "execution_count": null,
   "metadata": {},
   "outputs": [],
   "source": []
  }
 ],
 "metadata": {
  "kernelspec": {
   "display_name": "dxmi",
   "language": "python",
   "name": "python3"
  },
  "language_info": {
   "codemirror_mode": {
    "name": "ipython",
    "version": 3
   },
   "file_extension": ".py",
   "mimetype": "text/x-python",
   "name": "python",
   "nbconvert_exporter": "python",
   "pygments_lexer": "ipython3",
   "version": "3.8.20"
  }
 },
 "nbformat": 4,
 "nbformat_minor": 2
}
