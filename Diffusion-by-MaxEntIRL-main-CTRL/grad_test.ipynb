{
 "cells": [
  {
   "cell_type": "code",
   "execution_count": 8,
   "metadata": {},
   "outputs": [
    {
     "name": "stdout",
     "output_type": "stream",
     "text": [
      "tensor([[-2.1985],\n",
      "        [-7.2866],\n",
      "        [-7.7700],\n",
      "        [ 2.4174]])\n"
     ]
    }
   ],
   "source": [
    "import torch\n",
    "import torch.nn as nn\n",
    "\n",
    "# Define a simple network\n",
    "class MyModel(nn.Module):\n",
    "    def __init__(self):\n",
    "        super(MyModel, self).__init__()\n",
    "        #elf.fc = nn.Linear(2, 1)\n",
    "\n",
    "    def forward(self, x1, x2):\n",
    "        # Combine inputs and process\n",
    "        #inputs = torch.cat((x1, x2), dim=-1)\n",
    "        return 2*x1**2 + x2 #self.fc(inputs)\n",
    "\n",
    "# Instantiate the model\n",
    "model = MyModel()\n",
    "\n",
    "# Inputs\n",
    "batch_size = 4\n",
    "input1 = torch.randn(batch_size, 1, requires_grad=True)  # Input for which to compute gradient\n",
    "input2 = torch.randn(batch_size, 1)  # Other input\n",
    "\n",
    "# Forward pass\n",
    "output = model(input1, input2)  # Output shape: (batch_size, 1)\n",
    "\n",
    "# Compute the partial derivative of output w.r.t input1\n",
    "grad_input1 = torch.autograd.grad(output.sum(), input1, retain_graph=True)[0]\n",
    "#grad_input1 = torch.autograd.grad(output, input1, retain_graph=True)[0]\n",
    "\n",
    "print(grad_input1)  # Gradient of output w.r.t input1\n"
   ]
  },
  {
   "cell_type": "code",
   "execution_count": 9,
   "metadata": {},
   "outputs": [
    {
     "data": {
      "text/plain": [
       "torch.Size([4, 1])"
      ]
     },
     "execution_count": 9,
     "metadata": {},
     "output_type": "execute_result"
    }
   ],
   "source": [
    "output.shape"
   ]
  },
  {
   "cell_type": "code",
   "execution_count": 10,
   "metadata": {},
   "outputs": [
    {
     "data": {
      "text/plain": [
       "1.378"
      ]
     },
     "execution_count": 10,
     "metadata": {},
     "output_type": "execute_result"
    }
   ],
   "source": [
    "4 * 0.3445 "
   ]
  },
  {
   "cell_type": "code",
   "execution_count": 11,
   "metadata": {},
   "outputs": [
    {
     "data": {
      "text/plain": [
       "tensor([[-0.5496],\n",
       "        [-1.8217],\n",
       "        [-1.9425],\n",
       "        [ 0.6044]], requires_grad=True)"
      ]
     },
     "execution_count": 11,
     "metadata": {},
     "output_type": "execute_result"
    }
   ],
   "source": [
    "input1"
   ]
  },
  {
   "cell_type": "code",
   "execution_count": null,
   "metadata": {},
   "outputs": [],
   "source": []
  }
 ],
 "metadata": {
  "kernelspec": {
   "display_name": "dxmi",
   "language": "python",
   "name": "python3"
  },
  "language_info": {
   "codemirror_mode": {
    "name": "ipython",
    "version": 3
   },
   "file_extension": ".py",
   "mimetype": "text/x-python",
   "name": "python",
   "nbconvert_exporter": "python",
   "pygments_lexer": "ipython3",
   "version": "3.8.20"
  }
 },
 "nbformat": 4,
 "nbformat_minor": 2
}
